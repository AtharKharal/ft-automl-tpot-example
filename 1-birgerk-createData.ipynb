{
 "cells": [
  {
   "cell_type": "code",
   "execution_count": 11,
   "metadata": {
    "collapsed": true
   },
   "outputs": [],
   "source": [
    "import featuretools as ft\n",
    "import pandas as pd\n",
    "from sklearn.preprocessing import Imputer\n",
    "\n",
    "from featuretools.features import AvgTimeBetween, Mean, Sum, Count, Day"
   ]
  },
  {
   "cell_type": "markdown",
   "metadata": {},
   "source": [
    "# Prepare Data"
   ]
  },
  {
   "cell_type": "code",
   "execution_count": 3,
   "metadata": {},
   "outputs": [
    {
     "name": "stdout",
     "output_type": "stream",
     "text": [
      "calulate_feature_matrix: 100%|██████████| 2/2 [00:57<00:00, 28.79s/it]\n"
     ]
    }
   ],
   "source": [
    "es = ft.EntitySet(\"retail\")\n",
    "\n",
    "es.entity_from_csv(\"item_purchases\",\n",
    "                   csv_path=\"s3://featuretools-static/uk_online_retail.csv\",\n",
    "                   id_variable=\"item_purchase_id\",\n",
    "                   make_id_variable=True,\n",
    "                   time_index=\"InvoiceDate\",\n",
    "                   parse_date_cols=[\"InvoiceDate\"])\n",
    "\n",
    "es.normalize_entity(new_entity_id=\"items\",\n",
    "                    base_entity_id=\"item_purchases\",\n",
    "                    id_variable=\"StockCode\",\n",
    "                    additional_variables=[\"Description\"])\n",
    "\n",
    "es.normalize_entity(new_entity_id=\"invoices\",\n",
    "                    base_entity_id=\"item_purchases\",\n",
    "                    id_variable=\"InvoiceNo\",\n",
    "                    additional_variables=[\"CustomerID\",\"Country\"])\n",
    "\n",
    "es.normalize_entity(new_entity_id=\"customers\",\n",
    "                    base_entity_id=\"invoices\",\n",
    "                    id_variable=\"CustomerID\",\n",
    "                    additional_variables=[\"Country\"])\n",
    "\n",
    "cutoff_times = es[\"customers\"].df[[\"CustomerID\", \"first_invoices_time\"]].rename(columns={\"CustomerID\": \"instance_id\", \"first_invoices_time\": \"time\"})\n",
    "cutoff_times[\"time\"] = cutoff_times[\"time\"] + pd.Timedelta(\"365 days\")\n",
    "\n",
    "feature_matrix, features = ft.dfs(entityset=es, prediction_entity=\"customers\",\n",
    "                                  agg_primitives=[AvgTimeBetween, Mean, Sum, Count],\n",
    "                                  trans_primitives=[Day], max_depth=5, verbose=True)"
   ]
  },
  {
   "cell_type": "code",
   "execution_count": 9,
   "metadata": {},
   "outputs": [
    {
     "data": {
      "text/plain": [
       "[<Feature: DAY(first_invoices_time)>,\n",
       " <Feature: Country = United Kingdom>,\n",
       " <Feature: Country = Germany>,\n",
       " <Feature: Country = France>,\n",
       " <Feature: Country = Spain>,\n",
       " <Feature: Country = Belgium>,\n",
       " <Feature: Country = Switzerland>,\n",
       " <Feature: Country = Portugal>,\n",
       " <Feature: Country = Italy>,\n",
       " <Feature: Country = Finland>,\n",
       " <Feature: Country = Norway>,\n",
       " <Feature: Country = unknown>,\n",
       " <Feature: COUNT(invoices)>,\n",
       " <Feature: AVG_TIME_BETWEEN(item_purchases)>,\n",
       " <Feature: AVG_TIME_BETWEEN(invoices)>,\n",
       " <Feature: MEAN(item_purchases.Quantity)>,\n",
       " <Feature: COUNT(item_purchases)>,\n",
       " <Feature: MEAN(item_purchases.UnitPrice)>,\n",
       " <Feature: SUM(item_purchases.UnitPrice)>,\n",
       " <Feature: SUM(item_purchases.Quantity)>,\n",
       " <Feature: MEAN(invoices.SUM(item_purchases.UnitPrice))>,\n",
       " <Feature: MEAN(invoices.SUM(item_purchases.Quantity))>,\n",
       " <Feature: MEAN(invoices.MEAN(item_purchases.UnitPrice))>,\n",
       " <Feature: MEAN(invoices.AVG_TIME_BETWEEN(item_purchases))>,\n",
       " <Feature: MEAN(invoices.MEAN(item_purchases.Quantity))>,\n",
       " <Feature: MEAN(invoices.COUNT(item_purchases))>,\n",
       " <Feature: MEAN(item_purchases.items.AVG_TIME_BETWEEN(item_purchases))>,\n",
       " <Feature: MEAN(item_purchases.items.COUNT(item_purchases))>,\n",
       " <Feature: MEAN(item_purchases.items.MEAN(item_purchases.UnitPrice))>,\n",
       " <Feature: MEAN(item_purchases.items.MEAN(item_purchases.Quantity))>,\n",
       " <Feature: MEAN(item_purchases.items.SUM(item_purchases.Quantity))>,\n",
       " <Feature: MEAN(item_purchases.items.SUM(item_purchases.UnitPrice))>]"
      ]
     },
     "execution_count": 9,
     "metadata": {},
     "output_type": "execute_result"
    }
   ],
   "source": [
    "f_encoded, fm_encoded = ft.encode_features(features,feature_matrix)\n",
    "f_encoded"
   ]
  },
  {
   "cell_type": "code",
   "execution_count": 14,
   "metadata": {},
   "outputs": [],
   "source": [
    "imp = Imputer(missing_values='NaN', strategy='mean', axis=0)\n",
    "fm_cleaned = pd.DataFrame(imp.fit_transform(fm_encoded.values))\n",
    "fm_cleaned.columns = fm_encoded.columns"
   ]
  },
  {
   "cell_type": "markdown",
   "metadata": {},
   "source": [
    "# Export Data\n",
    "Because the data will be processed by a library which requires a different python-version, the feature-matrix will be exported at this point. In the next step the feature-matrix will be imported in a different notebook."
   ]
  },
  {
   "cell_type": "code",
   "execution_count": 15,
   "metadata": {
    "collapsed": true
   },
   "outputs": [],
   "source": [
    "fm_cleaned.to_csv('./example_data.csv')"
   ]
  },
  {
   "cell_type": "code",
   "execution_count": null,
   "metadata": {
    "collapsed": true
   },
   "outputs": [],
   "source": []
  }
 ],
 "metadata": {
  "kernelspec": {
   "display_name": "Python 2",
   "language": "python",
   "name": "python2"
  },
  "language_info": {
   "codemirror_mode": {
    "name": "ipython",
    "version": 2
   },
   "file_extension": ".py",
   "mimetype": "text/x-python",
   "name": "python",
   "nbconvert_exporter": "python",
   "pygments_lexer": "ipython2",
   "version": "2.7.13"
  }
 },
 "nbformat": 4,
 "nbformat_minor": 2
}
